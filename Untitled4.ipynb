{
  "nbformat": 4,
  "nbformat_minor": 0,
  "metadata": {
    "colab": {
      "name": "Untitled4.ipynb",
      "provenance": [],
      "collapsed_sections": [],
      "authorship_tag": "ABX9TyMvLyT6nnAMQUixEQN0IZpx",
      "include_colab_link": true
    },
    "kernelspec": {
      "name": "python3",
      "display_name": "Python 3"
    }
  },
  "cells": [
    {
      "cell_type": "markdown",
      "metadata": {
        "id": "view-in-github",
        "colab_type": "text"
      },
      "source": [
        "<a href=\"https://colab.research.google.com/github/JiaJunWuJAM/COMPUTATIONAL-THINKING/blob/circleci-project-setup/Untitled4.ipynb\" target=\"_parent\"><img src=\"https://colab.research.google.com/assets/colab-badge.svg\" alt=\"Open In Colab\"/></a>"
      ]
    },
    {
      "cell_type": "code",
      "metadata": {
        "id": "_kvM-xyEap3I"
      },
      "source": [
        "表準輸入輸出\n",
        "input()函數\n",
        "print()函數"
      ],
      "execution_count": null,
      "outputs": []
    },
    {
      "cell_type": "code",
      "metadata": {
        "id": "CWU_piNIaxyr",
        "outputId": "c0fb3ebb-272d-4a22-ab34-16198ddd05e7",
        "colab": {
          "base_uri": "https://localhost:8080/",
          "height": 52
        }
      },
      "source": [
        "input()"
      ],
      "execution_count": 1,
      "outputs": [
        {
          "output_type": "stream",
          "text": [
            "3\n"
          ],
          "name": "stdout"
        },
        {
          "output_type": "execute_result",
          "data": {
            "application/vnd.google.colaboratory.intrinsic+json": {
              "type": "string"
            },
            "text/plain": [
              "'3'"
            ]
          },
          "metadata": {
            "tags": []
          },
          "execution_count": 1
        }
      ]
    },
    {
      "cell_type": "code",
      "metadata": {
        "id": "W_SlCLVja5Tr",
        "outputId": "d72e80bb-ef41-4d97-c24e-2a421256ecaf",
        "colab": {
          "base_uri": "https://localhost:8080/",
          "height": 52
        }
      },
      "source": [
        "input(\"請輸入數字?\")"
      ],
      "execution_count": 2,
      "outputs": [
        {
          "output_type": "stream",
          "text": [
            "請輸入數字?3\n"
          ],
          "name": "stdout"
        },
        {
          "output_type": "execute_result",
          "data": {
            "application/vnd.google.colaboratory.intrinsic+json": {
              "type": "string"
            },
            "text/plain": [
              "'3'"
            ]
          },
          "metadata": {
            "tags": []
          },
          "execution_count": 2
        }
      ]
    },
    {
      "cell_type": "code",
      "metadata": {
        "id": "1wNr5bA7bH1O",
        "outputId": "ce8521de-e0df-4ad8-8013-df24e9955a10",
        "colab": {
          "base_uri": "https://localhost:8080/"
        }
      },
      "source": [
        "x = input(\"請輸入數字?\")"
      ],
      "execution_count": 3,
      "outputs": [
        {
          "output_type": "stream",
          "text": [
            "請輸入數字?3\n"
          ],
          "name": "stdout"
        }
      ]
    },
    {
      "cell_type": "code",
      "metadata": {
        "id": "d2zNe13MbPRw",
        "outputId": "7fb2f08c-ab40-48c9-cd67-86346ea85c06",
        "colab": {
          "base_uri": "https://localhost:8080/",
          "height": 35
        }
      },
      "source": [
        "x"
      ],
      "execution_count": 4,
      "outputs": [
        {
          "output_type": "execute_result",
          "data": {
            "application/vnd.google.colaboratory.intrinsic+json": {
              "type": "string"
            },
            "text/plain": [
              "'3'"
            ]
          },
          "metadata": {
            "tags": []
          },
          "execution_count": 4
        }
      ]
    },
    {
      "cell_type": "code",
      "metadata": {
        "id": "MANlNQkmbTSR",
        "outputId": "bf365f46-8947-4359-a228-492e4d2c948b",
        "colab": {
          "base_uri": "https://localhost:8080/"
        }
      },
      "source": [
        "print(x)"
      ],
      "execution_count": 5,
      "outputs": [
        {
          "output_type": "stream",
          "text": [
            "3\n"
          ],
          "name": "stdout"
        }
      ]
    },
    {
      "cell_type": "code",
      "metadata": {
        "id": "uDftoJfSbcRK",
        "outputId": "efe4dfd1-2cfa-455c-cfb6-dcc662d2e1fb",
        "colab": {
          "base_uri": "https://localhost:8080/"
        }
      },
      "source": [
        "print(x, 2, \"Python\")\n"
      ],
      "execution_count": 6,
      "outputs": [
        {
          "output_type": "stream",
          "text": [
            "3 2 Python\n"
          ],
          "name": "stdout"
        }
      ]
    },
    {
      "cell_type": "code",
      "metadata": {
        "id": "Lhit6vz7fghV",
        "outputId": "b18a545a-0c32-46cd-d32a-81dfe1191866",
        "colab": {
          "base_uri": "https://localhost:8080/"
        }
      },
      "source": [
        "x = int(input(\"請輸入上衣的數量?\"))\n",
        "y = int(input(\"請輸入褲子的數量?\"))\n",
        "z = int(input(\"請輸入背心的數量?\"))\n",
        "\n",
        "total = 300*x + 350*y + 400*z\n",
        "\n",
        "\n",
        "print (\"訂購服裝的總金額\", total)\n",
        "\n"
      ],
      "execution_count": 9,
      "outputs": [
        {
          "output_type": "stream",
          "text": [
            "請輸入上衣的數量?5\n",
            "請輸入褲子的數量?5\n",
            "請輸入背心的數量?5\n",
            "訂購服裝的總金額 5250\n"
          ],
          "name": "stdout"
        }
      ]
    },
    {
      "cell_type": "code",
      "metadata": {
        "id": "xKZW1Iwfghfb",
        "outputId": "d0fc2b91-c191-4109-a40d-832a6b2933ce",
        "colab": {
          "base_uri": "https://localhost:8080/"
        }
      },
      "source": [
        "Cans = int(input(\"請輸入購買的飲料罐數?\"))\n",
        "Total = (Cans//12)*200 + (Cans%12)*20\n",
        "print (\"需花費\",Total)"
      ],
      "execution_count": 11,
      "outputs": [
        {
          "output_type": "stream",
          "text": [
            "請輸入購買的飲料罐數?30\n",
            "需花費 520\n"
          ],
          "name": "stdout"
        }
      ]
    },
    {
      "cell_type": "code",
      "metadata": {
        "id": "rLPOAKi9hh6i",
        "outputId": "903bc161-e797-436a-ebdd-4f89a4ef2272",
        "colab": {
          "base_uri": "https://localhost:8080/"
        }
      },
      "source": [
        "first = int(input(\"請輸入第一次成績?\"))\n",
        "second = int(input(\"請輸入第二次成績?\"))\n",
        "final = int(input(\"請輸入期末考成績?\"))\n",
        "total = first + second + final\n",
        "average = total/3 \n",
        "print(\"總分為\", total, \"平均為\", average)\n"
      ],
      "execution_count": 12,
      "outputs": [
        {
          "output_type": "stream",
          "text": [
            "請輸入第一次成績?75\n",
            "請輸入第二次成績?80\n",
            "請輸入期末考成績?65\n",
            "總分為 220 平均為 73.33333333333333\n"
          ],
          "name": "stdout"
        }
      ]
    }
  ]
}