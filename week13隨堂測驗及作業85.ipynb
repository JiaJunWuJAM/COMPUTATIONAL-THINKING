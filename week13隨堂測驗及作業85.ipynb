{
  "nbformat": 4,
  "nbformat_minor": 0,
  "metadata": {
    "colab": {
      "name": "week13隨堂測驗及作業85.ipynb",
      "provenance": [],
      "authorship_tag": "ABX9TyMjix1JJumgrdu14+TxlZ2k",
      "include_colab_link": true
    },
    "kernelspec": {
      "name": "python3",
      "display_name": "Python 3"
    }
  },
  "cells": [
    {
      "cell_type": "markdown",
      "metadata": {
        "id": "view-in-github",
        "colab_type": "text"
      },
      "source": [
        "<a href=\"https://colab.research.google.com/github/JiaJunWuJAM/COMPUTATIONAL-THINKING/blob/circleci-project-setup/week13%E9%9A%A8%E5%A0%82%E6%B8%AC%E9%A9%97%E5%8F%8A%E4%BD%9C%E6%A5%AD85.ipynb\" target=\"_parent\"><img src=\"https://colab.research.google.com/assets/colab-badge.svg\" alt=\"Open In Colab\"/></a>"
      ]
    },
    {
      "cell_type": "code",
      "metadata": {
        "colab": {
          "base_uri": "https://localhost:8080/"
        },
        "id": "3TmQlM_FeT3H",
        "outputId": "cacecead-ec72-42c0-f041-2381fe4e2bf4"
      },
      "source": [
        "for i in range(0,5,1):\r\n",
        " print(\"Hello\")"
      ],
      "execution_count": 6,
      "outputs": [
        {
          "output_type": "stream",
          "text": [
            "Hello\n",
            "Hello\n",
            "Hello\n",
            "Hello\n",
            "Hello\n"
          ],
          "name": "stdout"
        }
      ]
    },
    {
      "cell_type": "code",
      "metadata": {
        "colab": {
          "base_uri": "https://localhost:8080/"
        },
        "id": "SWYNHqkjjVQM",
        "outputId": "3fd0cf03-5092-44fa-d164-2f8caed0a313"
      },
      "source": [
        "for i in range(100,90,-3):\r\n",
        "  print(i)"
      ],
      "execution_count": 7,
      "outputs": [
        {
          "output_type": "stream",
          "text": [
            "100\n",
            "97\n",
            "94\n",
            "91\n"
          ],
          "name": "stdout"
        }
      ]
    },
    {
      "cell_type": "code",
      "metadata": {
        "colab": {
          "base_uri": "https://localhost:8080/"
        },
        "id": "nFUpBmFXlF6T",
        "outputId": "ae689f46-d5c5-4c21-ac1d-aba564a67c06"
      },
      "source": [
        "sum = 0\r\n",
        "for i in range(1,11,1):\r\n",
        " sum = sum + i\r\n",
        "print(\"total is\", sum)"
      ],
      "execution_count": 12,
      "outputs": [
        {
          "output_type": "stream",
          "text": [
            "total is 55\n"
          ],
          "name": "stdout"
        }
      ]
    },
    {
      "cell_type": "code",
      "metadata": {
        "colab": {
          "base_uri": "https://localhost:8080/"
        },
        "id": "eZr1EQPtrAri",
        "outputId": "797984c4-b994-4dfd-bce6-fe1eb3b6c8ad"
      },
      "source": [
        "sum = 0\r\n",
        "for i in range (1,11,2):\r\n",
        "  sum = sum + i\r\n",
        "print(\"total is\",sum)"
      ],
      "execution_count": 17,
      "outputs": [
        {
          "output_type": "stream",
          "text": [
            "total is 25\n"
          ],
          "name": "stdout"
        }
      ]
    },
    {
      "cell_type": "code",
      "metadata": {
        "colab": {
          "base_uri": "https://localhost:8080/"
        },
        "id": "pa7RYXjsrbfu",
        "outputId": "8a0f902f-6c72-4f3b-888b-0a79afd20b7e"
      },
      "source": [
        "sum = 0\r\n",
        "for i in range (2,11,2):\r\n",
        "  sum = sum + i\r\n",
        "print(\"total is\",sum)"
      ],
      "execution_count": 18,
      "outputs": [
        {
          "output_type": "stream",
          "text": [
            "total is 30\n"
          ],
          "name": "stdout"
        }
      ]
    },
    {
      "cell_type": "code",
      "metadata": {
        "colab": {
          "base_uri": "https://localhost:8080/"
        },
        "id": "0AqfAQV5rfqE",
        "outputId": "65e246e8-7b11-495c-aa67-9de7a78e0daf"
      },
      "source": [
        "sum = 0\r\n",
        "for i in range (3,13,4):\r\n",
        "  sum = sum + i\r\n",
        "print(\"total is\",sum)"
      ],
      "execution_count": 19,
      "outputs": [
        {
          "output_type": "stream",
          "text": [
            "total is 21\n"
          ],
          "name": "stdout"
        }
      ]
    },
    {
      "cell_type": "code",
      "metadata": {
        "colab": {
          "base_uri": "https://localhost:8080/"
        },
        "id": "fjvwIHd9sQ8l",
        "outputId": "5279f57f-1e3b-4812-c394-2855b1f55eb4"
      },
      "source": [
        "start = int(input('請輸入加總開始值?'))\r\n",
        "end = int(input('請輸入加總終止值?'))\r\n",
        "step = int(input('請輸入遞增減值?'))\r\n",
        "\r\n",
        "sum = 0\r\n",
        "for i in range(start, end, step): #判斷條件\r\n",
        " sum = sum + i #更新條件\r\n",
        "print('i為', i, '時,累加結果為', sum)"
      ],
      "execution_count": 22,
      "outputs": [
        {
          "output_type": "stream",
          "text": [
            "請輸入加總開始值?1\n",
            "請輸入加總終止值?11\n",
            "請輸入遞增減值?1\n",
            "i為 10 時,累加結果為 55\n"
          ],
          "name": "stdout"
        }
      ]
    },
    {
      "cell_type": "code",
      "metadata": {
        "colab": {
          "base_uri": "https://localhost:8080/"
        },
        "id": "97AVxN29v-7p",
        "outputId": "acbde78f-e91d-45e4-eedc-96907730fe13"
      },
      "source": [
        "n = int(input(\"請輸入n值?\"))\r\n",
        "sum = 0\r\n",
        "for i in range(1,n+1):\r\n",
        "  sum = sum+ i*i\r\n",
        "print(\"數字平方和為\", sum)"
      ],
      "execution_count": 21,
      "outputs": [
        {
          "output_type": "stream",
          "text": [
            "請輸入n值?5\n",
            "數字平方和為 55\n"
          ],
          "name": "stdout"
        }
      ]
    }
  ]
}