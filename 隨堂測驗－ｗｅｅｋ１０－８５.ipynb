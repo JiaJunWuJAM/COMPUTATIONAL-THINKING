{
  "nbformat": 4,
  "nbformat_minor": 0,
  "metadata": {
    "colab": {
      "name": "隨堂測驗－ｗｅｅｋ１０－８５",
      "provenance": [],
      "collapsed_sections": [],
      "authorship_tag": "ABX9TyN8FaMA3Bjj6WFh1TjOxUMl",
      "include_colab_link": true
    },
    "kernelspec": {
      "name": "python3",
      "display_name": "Python 3"
    }
  },
  "cells": [
    {
      "cell_type": "markdown",
      "metadata": {
        "id": "view-in-github",
        "colab_type": "text"
      },
      "source": [
        "<a href=\"https://colab.research.google.com/github/JiaJunWuJAM/COMPUTATIONAL-THINKING/blob/circleci-project-setup/%E9%9A%A8%E5%A0%82%E6%B8%AC%E9%A9%97%EF%BC%8D%EF%BD%97%EF%BD%85%EF%BD%85%EF%BD%8B%EF%BC%91%EF%BC%90%EF%BC%8D%EF%BC%98%EF%BC%95.ipynb\" target=\"_parent\"><img src=\"https://colab.research.google.com/assets/colab-badge.svg\" alt=\"Open In Colab\"/></a>"
      ]
    },
    {
      "cell_type": "code",
      "metadata": {
        "colab": {
          "base_uri": "https://localhost:8080/"
        },
        "id": "NaGaBjyFRnh-",
        "outputId": "4dce2357-abca-4fc7-cf3e-d5eed3291bef"
      },
      "source": [
        "movie_title = \"The Blind Side\"\n",
        "release_year = \"2009\"\n",
        "台灣= \"攻其不備\"\n",
        "片長 = \"124分鐘\"\n",
        "主演 = \"凱西貝茲 珊卓布拉克 提姆麥格羅 昆東亞倫 莉莉柯林斯\"\n",
        "類型 = \"劇情 運動\"\n",
        "\n",
        "print(\"電腦英文名稱\",movie_title)\n",
        "print(\"上映時間\",release_year)\n",
        "print(\"台灣電影名稱\",台灣)\n",
        "print(\"電影時間長度\",片長)\n",
        "print(\"主演人員\",主演)\n",
        "print(\"電影類型\",類型)"
      ],
      "execution_count": 12,
      "outputs": [
        {
          "output_type": "stream",
          "text": [
            "電腦英文名稱 The Blind Side\n",
            "上映時間 2009\n",
            "台灣電影名稱 攻其不備\n",
            "電影時間長度 124分鐘\n",
            "主演人員 凱西貝茲 珊卓布拉克 提姆麥格羅 昆東亞倫 莉莉柯林斯\n",
            "電影類型 劇情 運動\n"
          ],
          "name": "stdout"
        }
      ]
    }
  ]
}