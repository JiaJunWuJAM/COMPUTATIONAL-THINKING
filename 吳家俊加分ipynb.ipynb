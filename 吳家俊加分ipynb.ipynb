{
  "nbformat": 4,
  "nbformat_minor": 0,
  "metadata": {
    "colab": {
      "name": "吳家俊加分ipynb",
      "provenance": [],
      "authorship_tag": "ABX9TyP0Z12BX/0cqfpk5IAckhtB",
      "include_colab_link": true
    },
    "kernelspec": {
      "name": "python3",
      "display_name": "Python 3"
    }
  },
  "cells": [
    {
      "cell_type": "markdown",
      "metadata": {
        "id": "view-in-github",
        "colab_type": "text"
      },
      "source": [
        "<a href=\"https://colab.research.google.com/github/JiaJunWuJAM/COMPUTATIONAL-THINKING/blob/circleci-project-setup/%E5%90%B3%E5%AE%B6%E4%BF%8A%E5%8A%A0%E5%88%86ipynb.ipynb\" target=\"_parent\"><img src=\"https://colab.research.google.com/assets/colab-badge.svg\" alt=\"Open In Colab\"/></a>"
      ]
    },
    {
      "cell_type": "code",
      "metadata": {
        "colab": {
          "base_uri": "https://localhost:8080/"
        },
        "id": "fjvwIHd9sQ8l",
        "outputId": "5279f57f-1e3b-4812-c394-2855b1f55eb4"
      },
      "source": [
        "start = int(input('請輸入加總開始值?'))\r\n",
        "end = int(input('請輸入加總終止值?'))\r\n",
        "step = int(input('請輸入遞增減值?'))\r\n",
        "\r\n",
        "sum = 0\r\n",
        "for i in range(start, end, step): \r\n",
        " sum = sum + i \r\n",
        "print('i為', i, '時,累加結果為', sum)"
      ],
      "execution_count": 22,
      "outputs": [
        {
          "output_type": "stream",
          "text": [
            "請輸入加總開始值?1\n",
            "請輸入加總終止值?11\n",
            "請輸入遞增減值?1\n",
            "i為 10 時,累加結果為 55\n"
          ],
          "name": "stdout"
        }
      ]
    }
  ]
}