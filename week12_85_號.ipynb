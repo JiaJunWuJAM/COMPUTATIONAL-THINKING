{
  "nbformat": 4,
  "nbformat_minor": 0,
  "metadata": {
    "colab": {
      "name": "week12 85 號.ipynb",
      "provenance": [],
      "authorship_tag": "ABX9TyPXQcXMJpSmqNCE36dYHYjw",
      "include_colab_link": true
    },
    "kernelspec": {
      "name": "python3",
      "display_name": "Python 3"
    }
  },
  "cells": [
    {
      "cell_type": "markdown",
      "metadata": {
        "id": "view-in-github",
        "colab_type": "text"
      },
      "source": [
        "<a href=\"https://colab.research.google.com/github/JiaJunWuJAM/COMPUTATIONAL-THINKING/blob/circleci-project-setup/week12_85_%E8%99%9F.ipynb\" target=\"_parent\"><img src=\"https://colab.research.google.com/assets/colab-badge.svg\" alt=\"Open In Colab\"/></a>"
      ]
    },
    {
      "cell_type": "markdown",
      "metadata": {
        "id": "6_TGiSGLjgHS"
      },
      "source": [
        "隨堂測驗1:購物清單 試著用串列出你最喜愛的五樣東西 當成購物清單"
      ]
    },
    {
      "cell_type": "code",
      "metadata": {
        "colab": {
          "base_uri": "https://localhost:8080/"
        },
        "id": "Hn1VK2DPiuHe",
        "outputId": "25134202-e10d-4f30-900b-357b63f9f71e"
      },
      "source": [
        "shopping_list = [\"蘋果\",\"豆漿\",\"香腸\",\"雞腿\",\"咖啡\"]\n",
        "print (shopping_list)\n",
        "list5 = ['牛奶', '蛋', '咖啡豆', '西瓜', '鳳梨']\n",
        "print(list5)\n",
        "print(list5[0])\n",
        "list5[1] = '皮蛋' \n",
        "print(list5)\n",
        "print(list5[1:3])"
      ],
      "execution_count": 6,
      "outputs": [
        {
          "output_type": "stream",
          "text": [
            "['蘋果', '豆漿', '香腸', '雞腿', '咖啡']\n",
            "['牛奶', '蛋', '咖啡豆', '西瓜', '鳳梨']\n",
            "牛奶\n",
            "['牛奶', '皮蛋', '咖啡豆', '西瓜', '鳳梨']\n",
            "['皮蛋', '咖啡豆']\n"
          ],
          "name": "stdout"
        }
      ]
    },
    {
      "cell_type": "markdown",
      "metadata": {
        "id": "QxHJlQCCkjWx"
      },
      "source": [
        "隨堂練習二"
      ]
    },
    {
      "cell_type": "code",
      "metadata": {
        "colab": {
          "base_uri": "https://localhost:8080/"
        },
        "id": "W9Z8I8l1knKv",
        "outputId": "376b45b9-952c-4c83-fbc4-9034202cff93"
      },
      "source": [
        "season = \"1995-1996\"\n",
        "team = \"Chicago Bulls\"\n",
        "coach = \"Phil Jackson\"\n",
        "records = [72, 10]\n",
        "starting = [\"Ron Harper\", \"Michael Jordan\", \"Scottie Pippen\", \"Dennis Rodman\", \"Luc Longley\"]\n",
        "champion = True\n",
        "\n",
        "best_NBA = list((season, team, coach, records, starting, champion))\n",
        "print(best_NBA)\n",
        "print(type(best_NBA))\n",
        "print(best_NBA[-2])\n",
        "print(best_NBA[0:3])"
      ],
      "execution_count": 5,
      "outputs": [
        {
          "output_type": "stream",
          "text": [
            "['1995-1996', 'Chicago Bulls', 'Phil Jackson', [72, 10], ['Ron Harper', 'Michael Jordan', 'Scottie Pippen', 'Dennis Rodman', 'Luc Longley'], True]\n",
            "<class 'list'>\n",
            "['Ron Harper', 'Michael Jordan', 'Scottie Pippen', 'Dennis Rodman', 'Luc Longley']\n",
            "['1995-1996', 'Chicago Bulls', 'Phil Jackson']\n"
          ],
          "name": "stdout"
        }
      ]
    },
    {
      "cell_type": "markdown",
      "metadata": {
        "id": "6SSEdRg9qT7Y"
      },
      "source": [
        "隨堂練習三 range指令練習"
      ]
    },
    {
      "cell_type": "code",
      "metadata": {
        "colab": {
          "base_uri": "https://localhost:8080/"
        },
        "id": "zhwFvV58p3uT",
        "outputId": "5f488caf-d3eb-4095-ad81-1aec73747293"
      },
      "source": [
        "a = range(5) \n",
        "print(a)\n",
        "range(0, 5)\n",
        "print(a[0], a[1], a[2], a[3], a[4])\n",
        "b = range(2, 6)\n",
        "print(b[0], b[1], b[2], b[3])\n",
        "c = range(2, 10, 3)\n",
        "print(c[0], c[1], c[2])\n",
        "d = range(10, 3, -2)\n",
        "print(d[0], d[1], d[2], d[3])"
      ],
      "execution_count": 7,
      "outputs": [
        {
          "output_type": "stream",
          "text": [
            "range(0, 5)\n",
            "0 1 2 3 4\n",
            "2 3 4 5\n",
            "2 5 8\n",
            "10 8 6 4\n"
          ],
          "name": "stdout"
        }
      ]
    },
    {
      "cell_type": "markdown",
      "metadata": {
        "id": "i5BA73MxuoFK"
      },
      "source": [
        "作業"
      ]
    },
    {
      "cell_type": "code",
      "metadata": {
        "colab": {
          "base_uri": "https://localhost:8080/"
        },
        "id": "nZ7WHJaouy9W",
        "outputId": "0f403dd0-f96b-438f-9bf1-2effb5857766"
      },
      "source": [
        "project_title = [\"還沒\"]\n",
        "print (project_title)\n",
        "       \n",
        "name_list = [\"吳家俊\",\"邱俊彥\",\"王耀霆\",\"第4+5+6+7+8人\"]\n",
        "print (name_list)\n",
        "\n",
        "number_list = [\"A109260085\",\"A109260083\",\"A109260059\",\"第4+5+6+7+8人\"]\n",
        "print (number_list)\n",
        "\n",
        "duty_list = [\"未分配\"]\n",
        "print(duty_list)\n",
        "\n",
        "load_list = [\"等分配\"]\n",
        "print(load_list)\n",
        "\n",
        "name_list3 =  [\"吳家俊\",\"邱俊彥\",\"王耀霆\",\"第4+5+6+7+8人\"]\n",
        "number_list3 =  [\"A109260085\",\"A109260083\",\"A109260059\",\"第4+5+6+7+8人\"]\n",
        "duty_list3 = [\"未分配\"]\n",
        "load_list3 = [\"等分配\"]\n",
        "print(name_list3[0])\n",
        "print(number_list3[0])\n",
        "print(duty_list3[0])\n",
        "print(load_list3[0])\n",
        "\n"
      ],
      "execution_count": 17,
      "outputs": [
        {
          "output_type": "stream",
          "text": [
            "['還沒']\n",
            "['吳家俊', '邱俊彥', '王耀霆', '第4+5+6+7+8人']\n",
            "['A109260085', 'A109260083', 'A109260059', '第4+5+6+7+8人']\n",
            "['未分配']\n",
            "['等分配']\n",
            "吳家俊\n",
            "A109260085\n",
            "未分配\n",
            "等分配\n"
          ],
          "name": "stdout"
        }
      ]
    },
    {
      "cell_type": "code",
      "metadata": {
        "id": "eMGZon7l0kmZ"
      },
      "source": [
        ""
      ],
      "execution_count": null,
      "outputs": []
    }
  ]
}